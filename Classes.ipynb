{
 "cells": [
  {
   "cell_type": "markdown",
   "metadata": {},
   "source": [
    "# Classes"
   ]
  },
  {
   "cell_type": "markdown",
   "metadata": {},
   "source": [
    "- Python is an object oriented language \n",
    "- In object oriented language , we consider every thing either a class or a part of the class "
   ]
  },
  {
   "cell_type": "markdown",
   "metadata": {},
   "source": [
    "- Class : It is just a template/clean unfilled form sheet.\n",
    "- Instance : It is the personal copy of your class.\n",
    "- Instance is simply created as variable, the name of the instance must be unique (unique identifier).\n",
    "- classes follow the same naming convention like the variables do. \n",
    "- coutom use, the name of the class should start with CAPITAL LETTER i.e. \"S\"tudent \n",
    "- Instance is the personal copy, BUT all the informaton must be structured in the same way. \n",
    "- for example lets take sample of school id card ,in every card the structure of card is same means : name , father name , class\n",
    "  etc but every id card is unique because of the information is filled inside it; every person have a unique : name ,father name.\n",
    "- for example : \n",
    "  name :_________\n",
    "  father name:________\n",
    "  class:_________\n",
    " - class begins with a keyword as ***class***\n",
    " - classes are just templates , it use for standrarizing ang organanizing information \n",
    " - we can say class is form and instance is form with my information"
   ]
  },
  {
   "cell_type": "markdown",
   "metadata": {},
   "source": [
    "#### Parts of class "
   ]
  },
  {
   "cell_type": "markdown",
   "metadata": {},
   "source": [
    "- first lets discuss attribute(charactersitic of a person).\n",
    "- Definetion : An attribute is a chunk of information to be provided about each user."
   ]
  },
  {
   "cell_type": "markdown",
   "metadata": {},
   "source": [
    "##### basic example of class"
   ]
  },
  {
   "cell_type": "code",
   "execution_count": 5,
   "metadata": {},
   "outputs": [],
   "source": [
    "class Student():     # class first letter will be capital\n",
    "    def __init__(self, last_name):  # last name is an attribute , or the piece of info about instance\n",
    "        \n",
    "        self.last_name = last_name    # self.last_name is attribute and last_name after = is varriable \n",
    "\n",
    "# using self you can access the attribute and methods of the class in python."
   ]
  },
  {
   "cell_type": "markdown",
   "metadata": {},
   "source": [
    "### Creating an instance "
   ]
  },
  {
   "cell_type": "code",
   "execution_count": 8,
   "metadata": {},
   "outputs": [],
   "source": [
    "student101 = Student(\"Bakhtani\")  # instance must be unique ,it also named unique identifier \n",
    "                               # instance creation process is called instantiation "
   ]
  },
  {
   "cell_type": "markdown",
   "metadata": {},
   "source": [
    "### Calling of an instance"
   ]
  },
  {
   "cell_type": "code",
   "execution_count": 10,
   "metadata": {},
   "outputs": [
    {
     "data": {
      "text/plain": [
       "'Bakhtani'"
      ]
     },
     "execution_count": 10,
     "metadata": {},
     "output_type": "execute_result"
    }
   ],
   "source": [
    "# instance_name. attiribute name --> formula \n",
    "student101.last_name"
   ]
  },
  {
   "cell_type": "markdown",
   "metadata": {},
   "source": [
    "### Adding details "
   ]
  },
  {
   "cell_type": "code",
   "execution_count": 14,
   "metadata": {},
   "outputs": [],
   "source": [
    "# template\n",
    "class Student():\n",
    "    def __init__(self,last_name,first_name,age):\n",
    "        self.last_name = last_name\n",
    "        self.first_name = first_name \n",
    "        self.age = age \n",
    "        \n",
    "        # python matches the input attribute values acording to thier order"
   ]
  },
  {
   "cell_type": "code",
   "execution_count": 15,
   "metadata": {},
   "outputs": [],
   "source": [
    "# instace\n",
    "student102 = Student(\"Bakhtani\", \"Shahzaib\", 19)"
   ]
  },
  {
   "cell_type": "code",
   "execution_count": 16,
   "metadata": {},
   "outputs": [
    {
     "data": {
      "text/plain": [
       "19"
      ]
     },
     "execution_count": 16,
     "metadata": {},
     "output_type": "execute_result"
    }
   ],
   "source": [
    "student102.age"
   ]
  },
  {
   "cell_type": "markdown",
   "metadata": {},
   "source": [
    "- A function built into the class is called , method "
   ]
  },
  {
   "cell_type": "code",
   "execution_count": 1,
   "metadata": {},
   "outputs": [],
   "source": [
    "class Student ():\n",
    "    def __init__(self, last_name,first_name,age,session):\n",
    "        self.last_name = last_name \n",
    "        self.first_name = first_name \n",
    "        self.age = age \n",
    "        self.session = str.lower(session) # --> str.lower kai function ki waja sai capital letter b\n",
    "        \n",
    "    def session_time(self):    # --> this is method\n",
    "        if self.session == \"first year\":\n",
    "            print(\"Session starts at 1 P.M.\")\n",
    "        elif self.session == \"second year\":\n",
    "            print(\"session starts at 5 P.M.\")\n",
    "        else :\n",
    "            print(\"Enter correct session name\")"
   ]
  },
  {
   "cell_type": "code",
   "execution_count": 2,
   "metadata": {},
   "outputs": [],
   "source": [
    "# instance \n",
    "student103 = Student(\"bakhtani\",\"Shahzaib\",19,\"FIRST YEAR\")"
   ]
  },
  {
   "cell_type": "code",
   "execution_count": 3,
   "metadata": {},
   "outputs": [
    {
     "name": "stdout",
     "output_type": "stream",
     "text": [
      "Session starts at 1 P.M.\n"
     ]
    }
   ],
   "source": [
    "# calling\n",
    "# for this particular insatnce_name.method_name()\n",
    "student103.session_time()"
   ]
  },
  {
   "cell_type": "markdown",
   "metadata": {},
   "source": [
    "### Changing attribute's value "
   ]
  },
  {
   "cell_type": "code",
   "execution_count": 6,
   "metadata": {},
   "outputs": [
    {
     "data": {
      "text/plain": [
       "'bakhtani'"
      ]
     },
     "execution_count": 6,
     "metadata": {},
     "output_type": "execute_result"
    }
   ],
   "source": [
    "student103.last_name"
   ]
  },
  {
   "cell_type": "code",
   "execution_count": 7,
   "metadata": {},
   "outputs": [],
   "source": [
    "student103.last_name = \"Asad\""
   ]
  },
  {
   "cell_type": "code",
   "execution_count": 8,
   "metadata": {},
   "outputs": [
    {
     "data": {
      "text/plain": [
       "'Asad'"
      ]
     },
     "execution_count": 8,
     "metadata": {},
     "output_type": "execute_result"
    }
   ],
   "source": [
    "student103.last_name"
   ]
  },
  {
   "cell_type": "markdown",
   "metadata": {},
   "source": [
    "## Inheritance "
   ]
  },
  {
   "cell_type": "code",
   "execution_count": 15,
   "metadata": {},
   "outputs": [],
   "source": [
    "# parent class\n",
    "class person():\n",
    "    def __init__(self,first_name,last_name):\n",
    "        self.first_name= first_name \n",
    "        self.last_name = last_name\n",
    "        \n",
    "    def printname(self):\n",
    "        print(self.first_name,self.last_name)"
   ]
  },
  {
   "cell_type": "code",
   "execution_count": 19,
   "metadata": {},
   "outputs": [],
   "source": [
    "# instance \n",
    "p = person(\"Shahzaib\",\"Bakhtani\")"
   ]
  },
  {
   "cell_type": "code",
   "execution_count": 20,
   "metadata": {},
   "outputs": [
    {
     "name": "stdout",
     "output_type": "stream",
     "text": [
      "Shahzaib Bakhtani\n"
     ]
    }
   ],
   "source": [
    "# calling \n",
    "P.printname()"
   ]
  },
  {
   "cell_type": "code",
   "execution_count": 33,
   "metadata": {},
   "outputs": [],
   "source": [
    "# child class \n",
    "class child1(person):\n",
    "    def __init__(self,first_name,last_name):\n",
    "        super(). __init__(first_name,last_name)"
   ]
  },
  {
   "cell_type": "code",
   "execution_count": 34,
   "metadata": {},
   "outputs": [],
   "source": [
    "# instance \n",
    "name = child1(\"shahzaib\", \"bakhtani\")"
   ]
  },
  {
   "cell_type": "code",
   "execution_count": 40,
   "metadata": {},
   "outputs": [
    {
     "name": "stdout",
     "output_type": "stream",
     "text": [
      "shahzaib bakhtani\n"
     ]
    }
   ],
   "source": [
    "name.printname()"
   ]
  },
  {
   "cell_type": "markdown",
   "metadata": {},
   "source": [
    "##### clear example"
   ]
  },
  {
   "cell_type": "code",
   "execution_count": 2,
   "metadata": {},
   "outputs": [],
   "source": [
    "# parent class \n",
    "class parent1():\n",
    "    def __init__(self,first_name,last_name):\n",
    "        self.first_name = first_name\n",
    "        self.last_name = last_name \n",
    "        \n",
    "    def fullname(self):\n",
    "        print(self.first_name, self.last_name)\n",
    "            "
   ]
  },
  {
   "cell_type": "code",
   "execution_count": 3,
   "metadata": {},
   "outputs": [],
   "source": [
    "# chlid class\n",
    "class child2(parent1):\n",
    "    def __init__(self,first_name,last_name):\n",
    "        super().__init__(first_name,last_name)"
   ]
  },
  {
   "cell_type": "code",
   "execution_count": 4,
   "metadata": {},
   "outputs": [],
   "source": [
    "child = child2(\"shahzaib\", \"bakhtani\")"
   ]
  },
  {
   "cell_type": "code",
   "execution_count": 5,
   "metadata": {},
   "outputs": [
    {
     "name": "stdout",
     "output_type": "stream",
     "text": [
      "shahzaib bakhtani\n"
     ]
    }
   ],
   "source": [
    "child.fullname()"
   ]
  },
  {
   "cell_type": "code",
   "execution_count": 6,
   "metadata": {},
   "outputs": [],
   "source": [
    "# chlid class  adding new unique attribute in chlid\n",
    "class child2(parent1):\n",
    "    def __init__(self,first_name,last_name,education):\n",
    "        super().__init__(first_name,last_name)\n",
    "        self.education = education "
   ]
  },
  {
   "cell_type": "code",
   "execution_count": 7,
   "metadata": {},
   "outputs": [],
   "source": [
    "child = child2(\"shahzaib\",\"bakhtani\",\"masters\")"
   ]
  },
  {
   "cell_type": "code",
   "execution_count": 8,
   "metadata": {},
   "outputs": [
    {
     "data": {
      "text/plain": [
       "'masters'"
      ]
     },
     "execution_count": 8,
     "metadata": {},
     "output_type": "execute_result"
    }
   ],
   "source": [
    "child.education"
   ]
  },
  {
   "cell_type": "code",
   "execution_count": 16,
   "metadata": {},
   "outputs": [],
   "source": [
    "# chlid class\n",
    "class child2(parent1):\n",
    "    def __init__(self,first_name,last_name,education):\n",
    "        super().__init__(first_name,last_name)\n",
    "        self.education = education      # attribute specific to chlid\n",
    "    def profession(self):\n",
    "        print(\"Teacher\")                # method specific to child "
   ]
  },
  {
   "cell_type": "code",
   "execution_count": 17,
   "metadata": {},
   "outputs": [],
   "source": [
    "child = child2(\"shahzaib\",\"bakhtani\",\"masters\")"
   ]
  },
  {
   "cell_type": "code",
   "execution_count": 18,
   "metadata": {},
   "outputs": [
    {
     "name": "stdout",
     "output_type": "stream",
     "text": [
      "Teacher\n"
     ]
    }
   ],
   "source": [
    "child.profession()"
   ]
  },
  {
   "cell_type": "code",
   "execution_count": null,
   "metadata": {},
   "outputs": [],
   "source": []
  }
 ],
 "metadata": {
  "kernelspec": {
   "display_name": "Python 3",
   "language": "python",
   "name": "python3"
  }
 },
 "nbformat": 4,
 "nbformat_minor": 2
}
