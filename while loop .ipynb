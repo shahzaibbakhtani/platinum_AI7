{
 "cells": [
  {
   "cell_type": "markdown",
   "metadata": {},
   "source": [
    "# While loop "
   ]
  },
  {
   "cell_type": "markdown",
   "metadata": {},
   "source": [
    "### For loop "
   ]
  },
  {
   "cell_type": "markdown",
   "metadata": {},
   "source": [
    "###### A for lop  itrerates over a itrerable(list, tuple, dictionary,string,range) repeating itself until comes it comes to the end of the sieries or until it encounter a break statement\n"
   ]
  },
  {
   "cell_type": "markdown",
   "metadata": {},
   "source": [
    "### While loop "
   ]
  },
  {
   "cell_type": "markdown",
   "metadata": {},
   "source": [
    "#### But suppose you want your user to be able to check /match multiple times one by one , you use a ***while loop***"
   ]
  },
  {
   "cell_type": "code",
   "execution_count": 1,
   "metadata": {},
   "outputs": [],
   "source": [
    "students = [\"Asad\",\"Shahzaib\",\"Arfa\",\"Asif\",\"Shireen\"]"
   ]
  },
  {
   "cell_type": "code",
   "execution_count": 2,
   "metadata": {},
   "outputs": [
    {
     "data": {
      "text/plain": [
       "['Asad', 'Shahzaib', 'Arfa', 'Asif', 'Shireen']"
      ]
     },
     "execution_count": 2,
     "metadata": {},
     "output_type": "execute_result"
    }
   ],
   "source": [
    "students"
   ]
  },
  {
   "cell_type": "code",
   "execution_count": 4,
   "metadata": {},
   "outputs": [
    {
     "data": {
      "text/plain": [
       "['Asad', 'Shahzaib', 'Arfa', 'Asif', 'Shireen']"
      ]
     },
     "execution_count": 4,
     "metadata": {},
     "output_type": "execute_result"
    }
   ],
   "source": [
    "students"
   ]
  },
  {
   "cell_type": "code",
   "execution_count": 13,
   "metadata": {},
   "outputs": [
    {
     "name": "stdout",
     "output_type": "stream",
     "text": [
      "Enter your name , or q to quitali\n",
      "Enter your name , or q to quitAsad\n",
      "Its is one of the students\n",
      "Enter your name , or q to quitq\n"
     ]
    }
   ],
   "source": [
    "user_input = \"\"\n",
    "while user_input != \"q\":\n",
    "    user_input = input(\"Enter your name , or q to quit\")\n",
    "    if user_input != \"q\" :\n",
    "        for student in students :\n",
    "            if user_input == student :\n",
    "                print(\"Its is one of the students\")\n",
    "                break \n",
    "                "
   ]
  },
  {
   "cell_type": "code",
   "execution_count": 15,
   "metadata": {},
   "outputs": [],
   "source": [
    "# actually howa kiya kai humne ek while loop banaya ausmain pheley shutudents maine define kiye then after making whlie loop \n",
    "# maine kiya kai aghar students ka naam jo hum likh ghe wo students ki list main sai howa to print wala aagahe gha if we dont \n",
    "# enter the same name tu wo while loop kuch response nahi de gha wo simply ignore kare gha aur if we have to stop looping/end\n",
    "#  aus kai liye maine q ka option define kiya jis ki waja sai wo stop ho gahe jab hum q code karien ghe   \n",
    "# **!=** sign of not equals to"
   ]
  },
  {
   "cell_type": "markdown",
   "metadata": {},
   "source": [
    "## While loop : setting a flag "
   ]
  },
  {
   "cell_type": "code",
   "execution_count": null,
   "metadata": {},
   "outputs": [],
   "source": [
    "# we use bolean here \n",
    "# in this there is concept of true and false else all is same"
   ]
  },
  {
   "cell_type": "markdown",
   "metadata": {},
   "source": [
    "### Beware : \"MISTAKE ALERT\""
   ]
  },
  {
   "cell_type": "markdown",
   "metadata": {},
   "source": [
    "##### you have to provide a condition to break the loop such as providing variable **break**  or it will print infinte "
   ]
  },
  {
   "cell_type": "code",
   "execution_count": 1,
   "metadata": {},
   "outputs": [
    {
     "name": "stdout",
     "output_type": "stream",
     "text": [
      "it is an infinite loop\n"
     ]
    }
   ],
   "source": [
    "var = 0 \n",
    "while var == 0 :\n",
    "    print(\"it is an infinite loop\")\n",
    "    break"
   ]
  },
  {
   "cell_type": "code",
   "execution_count": null,
   "metadata": {},
   "outputs": [],
   "source": []
  }
 ],
 "metadata": {
  "kernelspec": {
   "display_name": "Python 3",
   "language": "python",
   "name": "python3"
  },
  "language_info": {
   "codemirror_mode": {
    "name": "ipython",
    "version": 3
   },
   "file_extension": ".py",
   "mimetype": "text/x-python",
   "name": "python",
   "nbconvert_exporter": "python",
   "pygments_lexer": "ipython3",
   "version": "3.7.4"
  }
 },
 "nbformat": 4,
 "nbformat_minor": 2
}
