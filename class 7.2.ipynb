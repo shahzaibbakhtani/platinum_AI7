{
 "cells": [
  {
   "cell_type": "code",
   "execution_count": 1,
   "metadata": {},
   "outputs": [
    {
     "name": "stdout",
     "output_type": "stream",
     "text": [
      "PJK\n"
     ]
    },
    {
     "data": {
      "text/plain": [
       "'PJK'"
      ]
     },
     "execution_count": 1,
     "metadata": {},
     "output_type": "execute_result"
    }
   ],
   "source": [
    "input()"
   ]
  },
  {
   "cell_type": "markdown",
   "metadata": {},
   "source": [
    " institute= input(\"please enter your institute\")"
   ]
  },
  {
   "cell_type": "code",
   "execution_count": 3,
   "metadata": {},
   "outputs": [
    {
     "name": "stdout",
     "output_type": "stream",
     "text": [
      "pleasea enter your institute:  10\n"
     ]
    }
   ],
   "source": [
    "institute = int(input(\"pleasea enter your institute:  \"))"
   ]
  },
  {
   "cell_type": "code",
   "execution_count": 5,
   "metadata": {},
   "outputs": [
    {
     "name": "stdout",
     "output_type": "stream",
     "text": [
      "enter your age 10\n",
      "enter your salary 1\n",
      "enter your mob no. 00000\n",
      "enter your crush name kkk\n"
     ]
    }
   ],
   "source": [
    "# things should not be asked \n",
    "\n",
    "age = input(\"enter your age \")\n",
    "\n",
    "salary = input(\"enter your salary \")\n",
    "\n",
    "mob_no = input(\"enter your mob no. \")\n",
    "\n",
    "crush = input(\"enter your crush name \")"
   ]
  },
  {
   "cell_type": "code",
   "execution_count": 11,
   "metadata": {},
   "outputs": [
    {
     "name": "stdout",
     "output_type": "stream",
     "text": [
      "10 1 00000 kkk\n"
     ]
    }
   ],
   "source": [
    "print(age , salary , mob_no , crush )"
   ]
  },
  {
   "cell_type": "code",
   "execution_count": 10,
   "metadata": {},
   "outputs": [],
   "source": [
    "# grading system \n",
    "\n",
    "# 100 - 80 A1 \n",
    "\n",
    "# 79 - 70 A \n",
    "\n",
    "# 69 - 60 B \n",
    "\n",
    "# 59 - 50 c\n",
    "\n",
    "# 50 fail "
   ]
  },
  {
   "cell_type": "code",
   "execution_count": 23,
   "metadata": {},
   "outputs": [],
   "source": [
    "# mark varriable <-- input <-- student marks \n",
    "# grade A1 , A , B , C , FAIL \n",
    "# grade varriable <-- output <-- student grade \n",
    "# condition \n",
    "# 100 - 80 A1 \n",
    "\n",
    "# 79 - 70 A \n",
    "\n",
    "# 69 - 60 B \n",
    "\n",
    "# 59 - 50 c"
   ]
  },
  {
   "cell_type": "code",
   "execution_count": 20,
   "metadata": {},
   "outputs": [
    {
     "name": "stdout",
     "output_type": "stream",
     "text": [
      "enter your marks85\n"
     ]
    }
   ],
   "source": [
    "marks = int(input(\"enter your marks\"))"
   ]
  },
  {
   "cell_type": "code",
   "execution_count": 21,
   "metadata": {},
   "outputs": [],
   "source": [
    "grade = ''"
   ]
  },
  {
   "cell_type": "code",
   "execution_count": 22,
   "metadata": {},
   "outputs": [
    {
     "data": {
      "text/plain": [
       "str"
      ]
     },
     "execution_count": 22,
     "metadata": {},
     "output_type": "execute_result"
    }
   ],
   "source": [
    "type(grade)"
   ]
  },
  {
   "cell_type": "code",
   "execution_count": 1,
   "metadata": {},
   "outputs": [
    {
     "name": "stdout",
     "output_type": "stream",
     "text": [
      "enter your child marks100\n"
     ]
    },
    {
     "ename": "NameError",
     "evalue": "name 'grade' is not defined",
     "output_type": "error",
     "traceback": [
      "\u001b[1;31m---------------------------------------------------------------------------\u001b[0m",
      "\u001b[1;31mNameError\u001b[0m                                 Traceback (most recent call last)",
      "\u001b[1;32m<ipython-input-1-3ad9b7826224>\u001b[0m in \u001b[0;36m<module>\u001b[1;34m\u001b[0m\n\u001b[0;32m      6\u001b[0m \u001b[1;33m\u001b[0m\u001b[0m\n\u001b[0;32m      7\u001b[0m \u001b[1;32mif\u001b[0m \u001b[0mmarks\u001b[0m \u001b[1;33m<=\u001b[0m \u001b[1;36m100\u001b[0m \u001b[1;32mand\u001b[0m \u001b[0mmarks\u001b[0m \u001b[1;33m>=\u001b[0m \u001b[1;36m80\u001b[0m\u001b[1;33m:\u001b[0m\u001b[1;33m\u001b[0m\u001b[1;33m\u001b[0m\u001b[0m\n\u001b[1;32m----> 8\u001b[1;33m     \u001b[0mgrade\u001b[0m \u001b[1;33m+=\u001b[0m \u001b[1;34m'A1'\u001b[0m\u001b[1;33m\u001b[0m\u001b[1;33m\u001b[0m\u001b[0m\n\u001b[0m\u001b[0;32m      9\u001b[0m \u001b[1;33m\u001b[0m\u001b[0m\n\u001b[0;32m     10\u001b[0m \u001b[1;32melif\u001b[0m \u001b[0mmarks\u001b[0m \u001b[1;33m<=\u001b[0m \u001b[1;36m79\u001b[0m \u001b[1;32mand\u001b[0m \u001b[0mmarks\u001b[0m \u001b[1;33m>=\u001b[0m \u001b[1;36m70\u001b[0m\u001b[1;33m:\u001b[0m\u001b[1;33m\u001b[0m\u001b[1;33m\u001b[0m\u001b[0m\n",
      "\u001b[1;31mNameError\u001b[0m: name 'grade' is not defined"
     ]
    }
   ],
   "source": [
    "# made a marks variable and took an input of student marks \n",
    "marks = int(input(\"enter your child marks\"))\n",
    "\n",
    "# made a grade in a string \n",
    "\n",
    "\n",
    "if marks <= 100 and marks >= 80:\n",
    "    grade += 'A1'\n",
    "\n",
    "elif marks <= 79 and marks >= 70:\n",
    "    grade += 'A'\n",
    "\n",
    "elif marks <= 69 and marks >= 60:\n",
    "    grade +='B'\n",
    "    \n",
    "elif marks <= 59 and  marks >= 50:\n",
    "    grade += 'c'\n",
    "    \n",
    "else : \n",
    "    grade += 'fail'\n",
    "    \n",
    "# checking of results \n",
    "\n",
    "print(\"this is the grade of your child : \", grade)"
   ]
  },
  {
   "cell_type": "code",
   "execution_count": null,
   "metadata": {},
   "outputs": [],
   "source": [
    "# home work \n",
    "# schools have many classes \n",
    "# sach class has a different curriculum  \n",
    "# In every curriculum there are diffrent subject \n",
    "# Based on each subjects achieved mark , "
   ]
  }
 ],
 "metadata": {
  "kernelspec": {
   "display_name": "Python 3",
   "language": "python",
   "name": "python3"
  }
 },
 "nbformat": 4,
 "nbformat_minor": 2
}
