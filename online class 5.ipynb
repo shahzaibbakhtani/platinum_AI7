{
 "cells": [
  {
   "cell_type": "code",
   "execution_count": null,
   "metadata": {},
   "outputs": [],
   "source": []
  },
  {
   "cell_type": "code",
   "execution_count": 9,
   "metadata": {},
   "outputs": [],
   "source": [
    "dict1 = {\n",
    "   \"name\" : \"shahzaib\" , \"salary\" : 500000}"
   ]
  },
  {
   "cell_type": "code",
   "execution_count": 11,
   "metadata": {},
   "outputs": [
    {
     "data": {
      "text/plain": [
       "'shahzaib'"
      ]
     },
     "execution_count": 11,
     "metadata": {},
     "output_type": "execute_result"
    }
   ],
   "source": [
    "dict1['name']"
   ]
  },
  {
   "cell_type": "code",
   "execution_count": 10,
   "metadata": {},
   "outputs": [],
   "source": [
    "# to add any thing in dictionanry "
   ]
  },
  {
   "cell_type": "code",
   "execution_count": 13,
   "metadata": {},
   "outputs": [],
   "source": [
    "dict1[\"qualification\"] = \"buisness analyst\""
   ]
  },
  {
   "cell_type": "code",
   "execution_count": 14,
   "metadata": {},
   "outputs": [
    {
     "data": {
      "text/plain": [
       "{'name': 'shahzaib', 'salary': 500000, 'qualification': 'buisness analyst'}"
      ]
     },
     "execution_count": 14,
     "metadata": {},
     "output_type": "execute_result"
    }
   ],
   "source": [
    "dict1"
   ]
  },
  {
   "cell_type": "code",
   "execution_count": 17,
   "metadata": {},
   "outputs": [],
   "source": [
    "dict2  = {}"
   ]
  },
  {
   "cell_type": "code",
   "execution_count": 19,
   "metadata": {},
   "outputs": [],
   "source": [
    "dict2[\"name\"] = \"asad\" \n",
    "dict2[\"last name\"] = \"bakhtani\"\n",
    "dict2[\"salary\"] = 600000"
   ]
  },
  {
   "cell_type": "code",
   "execution_count": 20,
   "metadata": {},
   "outputs": [
    {
     "data": {
      "text/plain": [
       "{'name': 'asad', 'last name': 'bakhtani', 'salary': 600000}"
      ]
     },
     "execution_count": 20,
     "metadata": {},
     "output_type": "execute_result"
    }
   ],
   "source": [
    "dict2"
   ]
  },
  {
   "cell_type": "code",
   "execution_count": 30,
   "metadata": {},
   "outputs": [],
   "source": [
    "dict2[\"name\"] = \"asad\""
   ]
  },
  {
   "cell_type": "code",
   "execution_count": 31,
   "metadata": {},
   "outputs": [
    {
     "data": {
      "text/plain": [
       "{'last name': 'bakhtani', 'salary': 600000, 'name': 'asad'}"
      ]
     },
     "execution_count": 31,
     "metadata": {},
     "output_type": "execute_result"
    }
   ],
   "source": [
    "dict2"
   ]
  },
  {
   "cell_type": "code",
   "execution_count": 27,
   "metadata": {},
   "outputs": [],
   "source": [
    "# Removing  Items from dictionanry"
   ]
  },
  {
   "cell_type": "code",
   "execution_count": 32,
   "metadata": {},
   "outputs": [],
   "source": [
    "del dict2 [\"name\"]"
   ]
  },
  {
   "cell_type": "code",
   "execution_count": 33,
   "metadata": {},
   "outputs": [
    {
     "data": {
      "text/plain": [
       "{'last name': 'bakhtani', 'salary': 600000}"
      ]
     },
     "execution_count": 33,
     "metadata": {},
     "output_type": "execute_result"
    }
   ],
   "source": [
    "dict2"
   ]
  },
  {
   "cell_type": "code",
   "execution_count": null,
   "metadata": {},
   "outputs": [],
   "source": [
    "# changing Items from dictionary"
   ]
  },
  {
   "cell_type": "code",
   "execution_count": 34,
   "metadata": {},
   "outputs": [],
   "source": [
    "dict2 [\"last name\"] = \"Assar ali\""
   ]
  },
  {
   "cell_type": "code",
   "execution_count": 35,
   "metadata": {},
   "outputs": [
    {
     "data": {
      "text/plain": [
       "{'last name': 'Assar ali', 'salary': 600000}"
      ]
     },
     "execution_count": 35,
     "metadata": {},
     "output_type": "execute_result"
    }
   ],
   "source": [
    "dict2"
   ]
  },
  {
   "cell_type": "code",
   "execution_count": 36,
   "metadata": {},
   "outputs": [],
   "source": [
    "# looping through dictionary "
   ]
  },
  {
   "cell_type": "code",
   "execution_count": 42,
   "metadata": {},
   "outputs": [],
   "source": [
    "dict3 ={ 1 : \"shahzaib\" ,\n",
    "2 : \"asad\",\n",
    "3 : \"arfa\",\n",
    "4 :\"asif\"}\n"
   ]
  },
  {
   "cell_type": "code",
   "execution_count": 43,
   "metadata": {},
   "outputs": [
    {
     "data": {
      "text/plain": [
       "{1: 'shahzaib', 2: 'asad', 3: 'arfa', 4: 'asif'}"
      ]
     },
     "execution_count": 43,
     "metadata": {},
     "output_type": "execute_result"
    }
   ],
   "source": [
    "dict3"
   ]
  },
  {
   "cell_type": "markdown",
   "metadata": {},
   "source": [
    "### loop"
   ]
  },
  {
   "cell_type": "code",
   "execution_count": 44,
   "metadata": {},
   "outputs": [
    {
     "data": {
      "text/plain": [
       "dict_values(['shahzaib', 'asad', 'arfa', 'asif'])"
      ]
     },
     "execution_count": 44,
     "metadata": {},
     "output_type": "execute_result"
    }
   ],
   "source": [
    "dict3.values()"
   ]
  },
  {
   "cell_type": "code",
   "execution_count": 45,
   "metadata": {},
   "outputs": [
    {
     "name": "stdout",
     "output_type": "stream",
     "text": [
      "shahzaib\n",
      "asad\n",
      "arfa\n",
      "asif\n"
     ]
    }
   ],
   "source": [
    "for each_value in dict3.values () :\n",
    "    print(each_value)"
   ]
  },
  {
   "cell_type": "code",
   "execution_count": 46,
   "metadata": {},
   "outputs": [],
   "source": [
    "# concetination "
   ]
  },
  {
   "cell_type": "code",
   "execution_count": 47,
   "metadata": {},
   "outputs": [
    {
     "name": "stdout",
     "output_type": "stream",
     "text": [
      "shahzaib   Bakhtani\n",
      "asad   Bakhtani\n",
      "arfa   Bakhtani\n",
      "asif   Bakhtani\n"
     ]
    }
   ],
   "source": [
    "for each_value in dict3.values () :\n",
    "    print( each_value + \"   \"  \"Bakhtani\")\n"
   ]
  },
  {
   "cell_type": "code",
   "execution_count": 48,
   "metadata": {},
   "outputs": [],
   "source": [
    "# inserting values or items in list from dict3"
   ]
  },
  {
   "cell_type": "code",
   "execution_count": 49,
   "metadata": {},
   "outputs": [],
   "source": [
    "lst = []\n",
    "for i in dict3.values () : \n",
    "    lst.append(i)"
   ]
  },
  {
   "cell_type": "code",
   "execution_count": 50,
   "metadata": {},
   "outputs": [
    {
     "data": {
      "text/plain": [
       "['shahzaib', 'asad', 'arfa', 'asif']"
      ]
     },
     "execution_count": 50,
     "metadata": {},
     "output_type": "execute_result"
    }
   ],
   "source": [
    "lst"
   ]
  },
  {
   "cell_type": "code",
   "execution_count": 51,
   "metadata": {},
   "outputs": [],
   "source": [
    "# how to call keys ----> numbers "
   ]
  },
  {
   "cell_type": "code",
   "execution_count": 52,
   "metadata": {},
   "outputs": [
    {
     "data": {
      "text/plain": [
       "dict_keys([1, 2, 3, 4])"
      ]
     },
     "execution_count": 52,
     "metadata": {},
     "output_type": "execute_result"
    }
   ],
   "source": [
    "dict3.keys ()"
   ]
  },
  {
   "cell_type": "code",
   "execution_count": 53,
   "metadata": {},
   "outputs": [
    {
     "name": "stdout",
     "output_type": "stream",
     "text": [
      "1\n",
      "2\n",
      "3\n",
      "4\n"
     ]
    }
   ],
   "source": [
    "for i in dict3.keys() :\n",
    "    print(i)"
   ]
  },
  {
   "cell_type": "code",
   "execution_count": 56,
   "metadata": {},
   "outputs": [
    {
     "name": "stdout",
     "output_type": "stream",
     "text": [
      "1 shahzaib\n",
      "2 asad\n",
      "3 arfa\n",
      "4 asif\n"
     ]
    }
   ],
   "source": [
    "for key,value in dict3.items ():\n",
    "    print (key,value)"
   ]
  },
  {
   "cell_type": "code",
   "execution_count": 68,
   "metadata": {},
   "outputs": [],
   "source": [
    "dict4 = {}"
   ]
  },
  {
   "cell_type": "code",
   "execution_count": 69,
   "metadata": {},
   "outputs": [],
   "source": [
    "for key , vlaue in dict3.items () :\n",
    "    dict4[value] = key"
   ]
  },
  {
   "cell_type": "code",
   "execution_count": 71,
   "metadata": {},
   "outputs": [
    {
     "data": {
      "text/plain": [
       "{'asif': 4}"
      ]
     },
     "execution_count": 71,
     "metadata": {},
     "output_type": "execute_result"
    }
   ],
   "source": [
    "dict4"
   ]
  },
  {
   "cell_type": "code",
   "execution_count": 72,
   "metadata": {},
   "outputs": [
    {
     "data": {
      "text/plain": [
       "{1: 'shahzaib', 2: 'asad', 3: 'arfa', 4: 'asif'}"
      ]
     },
     "execution_count": 72,
     "metadata": {},
     "output_type": "execute_result"
    }
   ],
   "source": [
    "dict3"
   ]
  },
  {
   "cell_type": "code",
   "execution_count": 54,
   "metadata": {},
   "outputs": [],
   "source": [
    "# how to interchange the values / items and keys \n"
   ]
  },
  {
   "cell_type": "code",
   "execution_count": 73,
   "metadata": {},
   "outputs": [],
   "source": [
    "for key,value in dict3.items () : \n",
    "    dict4[value] = key"
   ]
  },
  {
   "cell_type": "code",
   "execution_count": 74,
   "metadata": {},
   "outputs": [
    {
     "data": {
      "text/plain": [
       "{'asif': 4, 'shahzaib': 1, 'asad': 2, 'arfa': 3}"
      ]
     },
     "execution_count": 74,
     "metadata": {},
     "output_type": "execute_result"
    }
   ],
   "source": [
    "dict4"
   ]
  },
  {
   "cell_type": "code",
   "execution_count": 76,
   "metadata": {},
   "outputs": [
    {
     "name": "stdout",
     "output_type": "stream",
     "text": [
      "1 is the key of shahzaib\n",
      "2 is the key of asad\n",
      "3 is the key of arfa\n",
      "4 is the key of asif\n"
     ]
    }
   ],
   "source": [
    "for key , value in dict3.items () : \n",
    "    print(key,\"is the key of\", value )"
   ]
  },
  {
   "cell_type": "code",
   "execution_count": 81,
   "metadata": {},
   "outputs": [
    {
     "name": "stdout",
     "output_type": "stream",
     "text": [
      "asif is the key of 4\n",
      "shahzaib is the key of 1\n",
      "asad is the key of 2\n",
      "arfa is the key of 3\n"
     ]
    }
   ],
   "source": [
    "for key , value in dict4.items () : \n",
    "    print(key ,\"is the key of\", value )"
   ]
  },
  {
   "cell_type": "markdown",
   "metadata": {},
   "source": [
    "### creating a list of dictionaries "
   ]
  },
  {
   "cell_type": "code",
   "execution_count": 84,
   "metadata": {},
   "outputs": [],
   "source": [
    "# step 1 --> initialize a list \n",
    "# step 2 --> initialize a dictioanry \n",
    "# step 3 ---> code first dictioanry item \n",
    "# step 4 --->  insert a coma (,)\n",
    "# step 5 ---> code another dictionary \n",
    "# step 6 ---> repeat step 4 and 5"
   ]
  },
  {
   "cell_type": "code",
   "execution_count": 89,
   "metadata": {},
   "outputs": [],
   "source": [
    "lst = [\n",
    "    {\n",
    "        \"name1\" : 'shahzaib'},\n",
    "    { \"name2\" : 'Asad'  }\n",
    "]"
   ]
  },
  {
   "cell_type": "code",
   "execution_count": 90,
   "metadata": {},
   "outputs": [
    {
     "data": {
      "text/plain": [
       "[{'name1': 'shahzaib'}, {'name2': 'Asad'}]"
      ]
     },
     "execution_count": 90,
     "metadata": {},
     "output_type": "execute_result"
    }
   ],
   "source": [
    "lst"
   ]
  },
  {
   "cell_type": "code",
   "execution_count": 91,
   "metadata": {},
   "outputs": [
    {
     "data": {
      "text/plain": [
       "{'name1': 'shahzaib'}"
      ]
     },
     "execution_count": 91,
     "metadata": {},
     "output_type": "execute_result"
    }
   ],
   "source": [
    "lst[0]"
   ]
  },
  {
   "cell_type": "code",
   "execution_count": 92,
   "metadata": {},
   "outputs": [],
   "source": [
    "# insert "
   ]
  },
  {
   "cell_type": "code",
   "execution_count": 93,
   "metadata": {},
   "outputs": [],
   "source": [
    "lst.insert (0,{\"n0\" : \"Asif\"})"
   ]
  },
  {
   "cell_type": "code",
   "execution_count": 94,
   "metadata": {},
   "outputs": [
    {
     "data": {
      "text/plain": [
       "[{'n0': 'Asif'}, {'name1': 'shahzaib'}, {'name2': 'Asad'}]"
      ]
     },
     "execution_count": 94,
     "metadata": {},
     "output_type": "execute_result"
    }
   ],
   "source": [
    "lst"
   ]
  },
  {
   "cell_type": "code",
   "execution_count": 95,
   "metadata": {},
   "outputs": [],
   "source": [
    "# how to pick info out of list of dictionaries "
   ]
  },
  {
   "cell_type": "code",
   "execution_count": 96,
   "metadata": {},
   "outputs": [],
   "source": [
    "student = lst[1]"
   ]
  },
  {
   "cell_type": "code",
   "execution_count": 97,
   "metadata": {},
   "outputs": [
    {
     "data": {
      "text/plain": [
       "{'name1': 'shahzaib'}"
      ]
     },
     "execution_count": 97,
     "metadata": {},
     "output_type": "execute_result"
    }
   ],
   "source": [
    "student"
   ]
  },
  {
   "cell_type": "code",
   "execution_count": 99,
   "metadata": {},
   "outputs": [
    {
     "data": {
      "text/plain": [
       "'shahzaib'"
      ]
     },
     "execution_count": 99,
     "metadata": {},
     "output_type": "execute_result"
    }
   ],
   "source": [
    "student['name1']"
   ]
  },
  {
   "cell_type": "code",
   "execution_count": 100,
   "metadata": {},
   "outputs": [
    {
     "data": {
      "text/plain": [
       "'shahzaib'"
      ]
     },
     "execution_count": 100,
     "metadata": {},
     "output_type": "execute_result"
    }
   ],
   "source": [
    "lst[1]['name1']"
   ]
  },
  {
   "cell_type": "code",
   "execution_count": 107,
   "metadata": {},
   "outputs": [],
   "source": [
    "accounts = [{\n",
    "    'account_num' : 101,\n",
    "    'first_name' : \"shahzaib\",\n",
    "    'last_name' : \"Bakhtani\" , \n",
    "    'profession' : \"student\" }, \n",
    "    \n",
    "    \n",
    "    {'account_num' : 102,\n",
    "     'first_name' : \"Asad\",\n",
    "     'last_name' : \"Bakhtani\",\n",
    "     'Profession' : \"enginner\"\n",
    "        \n",
    "    }\n",
    "\n",
    "\n",
    "\n",
    "\n",
    "\n",
    "\n",
    "\n",
    "\n",
    "]"
   ]
  },
  {
   "cell_type": "code",
   "execution_count": 108,
   "metadata": {},
   "outputs": [
    {
     "data": {
      "text/plain": [
       "[{'account_num': 101,\n",
       "  'first_name': 'shahzaib',\n",
       "  'last_name': 'Bakhtani',\n",
       "  'profession': 'student'},\n",
       " {'account_num': 102,\n",
       "  'first_name': 'Asad',\n",
       "  'last_name': 'Bakhtani',\n",
       "  'Profession': 'enginner'}]"
      ]
     },
     "execution_count": 108,
     "metadata": {},
     "output_type": "execute_result"
    }
   ],
   "source": [
    "accounts"
   ]
  },
  {
   "cell_type": "code",
   "execution_count": 109,
   "metadata": {},
   "outputs": [
    {
     "data": {
      "text/plain": [
       "2"
      ]
     },
     "execution_count": 109,
     "metadata": {},
     "output_type": "execute_result"
    }
   ],
   "source": [
    "len(accounts)"
   ]
  },
  {
   "cell_type": "code",
   "execution_count": 110,
   "metadata": {},
   "outputs": [],
   "source": [
    "new_acc_no = len(accounts)"
   ]
  },
  {
   "cell_type": "code",
   "execution_count": 106,
   "metadata": {},
   "outputs": [
    {
     "data": {
      "text/plain": [
       "2"
      ]
     },
     "execution_count": 106,
     "metadata": {},
     "output_type": "execute_result"
    }
   ],
   "source": [
    "new_acc_no"
   ]
  },
  {
   "cell_type": "code",
   "execution_count": 128,
   "metadata": {},
   "outputs": [],
   "source": [
    "new_dictionanry = {\n",
    "    'account_num' : new_acc_no,\n",
    "    'first_name' : \"shahzaib\",\n",
    "    'last_name' : \"Bakhtani\" , \n",
    "    'profession' : \"student\"}"
   ]
  },
  {
   "cell_type": "code",
   "execution_count": 129,
   "metadata": {},
   "outputs": [],
   "source": [
    "# how to increase number of dictionaries in list "
   ]
  },
  {
   "cell_type": "code",
   "execution_count": 130,
   "metadata": {},
   "outputs": [],
   "source": [
    "accounts.append(new_dictionanry)"
   ]
  },
  {
   "cell_type": "code",
   "execution_count": 131,
   "metadata": {},
   "outputs": [
    {
     "data": {
      "text/plain": [
       "[{'account_num': 101,\n",
       "  'first_name': 'shahzaib',\n",
       "  'last_name': 'Bakhtani',\n",
       "  'profession': 'student'},\n",
       " {'account_num': 102,\n",
       "  'first_name': 'Asad',\n",
       "  'last_name': 'Bakhtani',\n",
       "  'Profession': 'enginner'},\n",
       " {'account_num': 2,\n",
       "  'first_name': 'shahzaib',\n",
       "  'last_name': 'Bakhtani',\n",
       "  'profession': 'student'},\n",
       " {'account_num': 2,\n",
       "  'first_name': 'shahzaib',\n",
       "  'last_name': 'Bakhtani',\n",
       "  'profession': 'student'},\n",
       " {'account_num': 2,\n",
       "  'first_name': 'shahzaib',\n",
       "  'last_name': 'Bakhtani',\n",
       "  'profession': 'student'},\n",
       " {'account_num': 2,\n",
       "  'first_name': 'shahzaib',\n",
       "  'last_name': 'Bakhtani',\n",
       "  'profession': 'student'}]"
      ]
     },
     "execution_count": 131,
     "metadata": {},
     "output_type": "execute_result"
    }
   ],
   "source": [
    "accounts"
   ]
  },
  {
   "cell_type": "code",
   "execution_count": 135,
   "metadata": {},
   "outputs": [
    {
     "data": {
      "text/plain": [
       "7"
      ]
     },
     "execution_count": 135,
     "metadata": {},
     "output_type": "execute_result"
    }
   ],
   "source": [
    "len(accounts)"
   ]
  },
  {
   "cell_type": "code",
   "execution_count": 137,
   "metadata": {},
   "outputs": [],
   "source": [
    "new_acc_no = len(accounts)"
   ]
  },
  {
   "cell_type": "code",
   "execution_count": 140,
   "metadata": {},
   "outputs": [],
   "source": [
    "accounts.append(new_dictionary)"
   ]
  },
  {
   "cell_type": "code",
   "execution_count": 142,
   "metadata": {},
   "outputs": [
    {
     "data": {
      "text/plain": [
       "[{'account_num': 101,\n",
       "  'first_name': 'shahzaib',\n",
       "  'last_name': 'Bakhtani',\n",
       "  'profession': 'student'},\n",
       " {'account_num': 102,\n",
       "  'first_name': 'Asad',\n",
       "  'last_name': 'Bakhtani',\n",
       "  'Profession': 'enginner'},\n",
       " {'account_num': 2,\n",
       "  'first_name': 'shahzaib',\n",
       "  'last_name': 'Bakhtani',\n",
       "  'profession': 'student'},\n",
       " {'account_num': 2,\n",
       "  'first_name': 'shahzaib',\n",
       "  'last_name': 'Bakhtani',\n",
       "  'profession': 'student'},\n",
       " {'account_num': 2,\n",
       "  'first_name': 'shahzaib',\n",
       "  'last_name': 'Bakhtani',\n",
       "  'profession': 'student'},\n",
       " {'account_num': 2,\n",
       "  'first_name': 'shahzaib',\n",
       "  'last_name': 'Bakhtani',\n",
       "  'profession': 'student'},\n",
       " {'account_num': 2,\n",
       "  'first_name': 'shahzaib',\n",
       "  'last_name': 'Bakhtani',\n",
       "  'profession': 'student'},\n",
       " {'account_num': 2,\n",
       "  'first_name': 'shahzaib',\n",
       "  'last_name': 'Bakhtani',\n",
       "  'profession': 'student'}]"
      ]
     },
     "execution_count": 142,
     "metadata": {},
     "output_type": "execute_result"
    }
   ],
   "source": [
    "accounts"
   ]
  },
  {
   "cell_type": "code",
   "execution_count": 143,
   "metadata": {},
   "outputs": [
    {
     "data": {
      "text/plain": [
       "8"
      ]
     },
     "execution_count": 143,
     "metadata": {},
     "output_type": "execute_result"
    }
   ],
   "source": [
    "len(accounts)"
   ]
  },
  {
   "cell_type": "code",
   "execution_count": 144,
   "metadata": {},
   "outputs": [],
   "source": [
    "new_acc_no = len(accounts)"
   ]
  },
  {
   "cell_type": "code",
   "execution_count": 153,
   "metadata": {},
   "outputs": [
    {
     "data": {
      "text/plain": [
       "8"
      ]
     },
     "execution_count": 153,
     "metadata": {},
     "output_type": "execute_result"
    }
   ],
   "source": [
    "new_acc_no"
   ]
  },
  {
   "cell_type": "code",
   "execution_count": 155,
   "metadata": {},
   "outputs": [],
   "source": [
    "# ye alag sai bana na hain badh main vedio 5.2            13 min sai start "
   ]
  },
  {
   "cell_type": "markdown",
   "metadata": {},
   "source": [
    "### dictionary that contain list "
   ]
  },
  {
   "cell_type": "code",
   "execution_count": 156,
   "metadata": {},
   "outputs": [],
   "source": [
    "emp_dict = {\n",
    "    'first_name' : 'Asad',\n",
    "    'last_name' : 'bakhtani',\n",
    "    'profession': 'enginner'}"
   ]
  },
  {
   "cell_type": "code",
   "execution_count": 157,
   "metadata": {},
   "outputs": [
    {
     "data": {
      "text/plain": [
       "{'first_name': 'Asad', 'last_name': 'bakhtani', 'profession': 'enginner'}"
      ]
     },
     "execution_count": 157,
     "metadata": {},
     "output_type": "execute_result"
    }
   ],
   "source": [
    "emp_dict"
   ]
  },
  {
   "cell_type": "code",
   "execution_count": 158,
   "metadata": {},
   "outputs": [],
   "source": [
    "emp_dict['qualification'] = [\"matric\" ,\"inter\" ,\"bachelor\" ,\"masters\"]"
   ]
  },
  {
   "cell_type": "code",
   "execution_count": 159,
   "metadata": {},
   "outputs": [
    {
     "data": {
      "text/plain": [
       "{'first_name': 'Asad',\n",
       " 'last_name': 'bakhtani',\n",
       " 'profession': 'enginner',\n",
       " 'qualification': ['matric', 'inter', 'bachelor', 'masters']}"
      ]
     },
     "execution_count": 159,
     "metadata": {},
     "output_type": "execute_result"
    }
   ],
   "source": [
    "emp_dict"
   ]
  },
  {
   "cell_type": "code",
   "execution_count": 160,
   "metadata": {},
   "outputs": [
    {
     "data": {
      "text/plain": [
       "['matric', 'inter', 'bachelor', 'masters']"
      ]
     },
     "execution_count": 160,
     "metadata": {},
     "output_type": "execute_result"
    }
   ],
   "source": [
    "emp_dict['qualification']"
   ]
  },
  {
   "cell_type": "code",
   "execution_count": 164,
   "metadata": {},
   "outputs": [
    {
     "name": "stdout",
     "output_type": "stream",
     "text": [
      "100 %\n"
     ]
    }
   ],
   "source": [
    "job_chance_percent = 0 \n",
    "if \"matric\" in emp_dict['qualification'] :\n",
    "    job_chance_percent += 25\n",
    "if \"inter\" in emp_dict[\"qualification\"]:\n",
    "    job_chance_percent += 25\n",
    "if \"bachelor\" in emp_dict[\"qualification\"]:\n",
    "    job_chance_percent += 25\n",
    "if \"masters\" in emp_dict[\"qualification\"] :\n",
    "    job_chance_percent += 25\n",
    "\n",
    "else : \n",
    "    job_chance_percent += 0\n",
    "    \n",
    "print(str(job_chance_percent) + \" \" + \"%\" )\n",
    "\n",
    "\n",
    "\n"
   ]
  },
  {
   "cell_type": "code",
   "execution_count": 165,
   "metadata": {},
   "outputs": [],
   "source": [
    "# last main concetination howi hai \n",
    "# if ki waja sai wo gaya qualification main check kiya \n",
    "# aghar koi bhi ek cheez nahi ho to else ki waja sai 0 chances increase hon \n",
    "# += ----> increment ki sign hai ye "
   ]
  },
  {
   "cell_type": "code",
   "execution_count": null,
   "metadata": {},
   "outputs": [],
   "source": []
  }
 ],
 "metadata": {
  "kernelspec": {
   "display_name": "Python 3",
   "language": "python",
   "name": "python3"
  }
 },
 "nbformat": 4,
 "nbformat_minor": 2
}
